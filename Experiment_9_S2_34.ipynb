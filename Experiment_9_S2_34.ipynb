{
  "cells": [
    {
      "cell_type": "markdown",
      "id": "496efdf5-95f1-4f20-b033-5c273274152b",
      "metadata": {},
      "source": [
        "#### Name = Anish Mangesh Naik\n",
        "#### Roll No = 34"
      ]
    },
    {
      "cell_type": "code",
      "execution_count": 1,
      "id": "32f59623-6234-4c0b-b23d-ca9a63b0acc0",
      "metadata": {
        "trusted": true
      },
      "outputs": [],
      "source": [
        "import numpy as np"
      ]
    },
    {
      "cell_type": "markdown",
      "id": "9b0126f0-c8ed-4469-97e4-18a9134dcf24",
      "metadata": {},
      "source": [
        "##### 1. Array Creation Techniques"
      ]
    },
    {
      "cell_type": "code",
      "execution_count": 2,
      "id": "65cded99-78c8-426b-bf85-47841fb7df5d",
      "metadata": {
        "trusted": true
      },
      "outputs": [
        {
          "name": "stdout",
          "output_type": "stream",
          "text": [
            "1. Array Creation Techniques\n"
          ]
        }
      ],
      "source": [
        "print(\"1. Array Creation Techniques\")"
      ]
    },
    {
      "cell_type": "markdown",
      "id": "1266d35c-5288-4089-a118-86e2fbfb8586",
      "metadata": {},
      "source": [
        "##### a. Creating an array from a list"
      ]
    },
    {
      "cell_type": "code",
      "execution_count": 3,
      "id": "570897fc-2a38-4496-ba03-3151e5e199a3",
      "metadata": {
        "trusted": true
      },
      "outputs": [
        {
          "data": {
            "text/plain": [
              "array([1, 2, 3, 4, 5])"
            ]
          },
          "execution_count": 3,
          "metadata": {},
          "output_type": "execute_result"
        }
      ],
      "source": [
        "array_from_list = np.array([1, 2, 3, 4, 5])\n",
        "array_from_list"
      ]
    },
    {
      "cell_type": "markdown",
      "id": "851ba2c6-0a76-45ad-bf9e-4043595371ab",
      "metadata": {},
      "source": [
        "##### b. Using arange()\n"
      ]
    },
    {
      "cell_type": "code",
      "execution_count": 4,
      "id": "55b95bbf-7e10-41be-96f0-fafa6b784381",
      "metadata": {
        "trusted": true
      },
      "outputs": [
        {
          "data": {
            "text/plain": [
              "array([0, 2, 4, 6, 8])"
            ]
          },
          "execution_count": 4,
          "metadata": {},
          "output_type": "execute_result"
        }
      ],
      "source": [
        "array_arange = np.arange(0, 10, 2)\n",
        "array_arange"
      ]
    },
    {
      "cell_type": "markdown",
      "id": "e65f52af-698f-4d2c-94d4-070ec5f286b9",
      "metadata": {},
      "source": [
        "##### c. Using linspace()"
      ]
    },
    {
      "cell_type": "code",
      "execution_count": 5,
      "id": "a2562338-7fb0-4b54-83cc-ee94202a805c",
      "metadata": {
        "trusted": true
      },
      "outputs": [
        {
          "data": {
            "text/plain": [
              "array([ 0. ,  2.5,  5. ,  7.5, 10. ])"
            ]
          },
          "execution_count": 5,
          "metadata": {},
          "output_type": "execute_result"
        }
      ],
      "source": [
        "array_linspace = np.linspace(0, 10, 5)  # Divides 0 to 10 into 5 points\n",
        "array_linspace"
      ]
    },
    {
      "cell_type": "markdown",
      "id": "a5475fbd-f615-4220-abb4-a438be162fb2",
      "metadata": {},
      "source": [
        "##### d. Using zeros()\n"
      ]
    },
    {
      "cell_type": "code",
      "execution_count": 6,
      "id": "bda81e3c-439b-452b-974d-28d4cd8cb960",
      "metadata": {
        "trusted": true
      },
      "outputs": [
        {
          "data": {
            "text/plain": [
              "array([[0., 0., 0.],\n",
              "       [0., 0., 0.],\n",
              "       [0., 0., 0.]])"
            ]
          },
          "execution_count": 6,
          "metadata": {},
          "output_type": "execute_result"
        }
      ],
      "source": [
        "array_zeros = np.zeros((3, 3))\n",
        "array_zeros"
      ]
    },
    {
      "cell_type": "markdown",
      "id": "da29ea8e-7bb7-4f12-aed2-b3b5a1d5da81",
      "metadata": {},
      "source": [
        "##### e. Using ones()"
      ]
    },
    {
      "cell_type": "code",
      "execution_count": 7,
      "id": "e14bab0a-463c-4a1c-baab-be16b56d1d19",
      "metadata": {
        "trusted": true
      },
      "outputs": [
        {
          "data": {
            "text/plain": [
              "array([[1., 1.],\n",
              "       [1., 1.]])"
            ]
          },
          "execution_count": 7,
          "metadata": {},
          "output_type": "execute_result"
        }
      ],
      "source": [
        "array_ones = np.ones((2, 2))\n",
        "array_ones"
      ]
    },
    {
      "cell_type": "markdown",
      "id": "10bbbf28-041f-4804-84e2-7e2a56e5029f",
      "metadata": {},
      "source": [
        "##### f. Using eye() for identity matrix\n"
      ]
    },
    {
      "cell_type": "code",
      "execution_count": 8,
      "id": "01796aa8-3f3c-46a6-8728-c8d73505bfc8",
      "metadata": {
        "trusted": true
      },
      "outputs": [
        {
          "data": {
            "text/plain": [
              "array([[1., 0., 0.],\n",
              "       [0., 1., 0.],\n",
              "       [0., 0., 1.]])"
            ]
          },
          "execution_count": 8,
          "metadata": {},
          "output_type": "execute_result"
        }
      ],
      "source": [
        "array_eye = np.eye(3)\n",
        "array_eye"
      ]
    },
    {
      "cell_type": "markdown",
      "id": "2578edbd-1cf8-4862-b8c0-fd589fd8e1fe",
      "metadata": {},
      "source": [
        "##### g. Using random() for random values"
      ]
    },
    {
      "cell_type": "code",
      "execution_count": 9,
      "id": "8137a971-64a2-4f29-b6f7-09b983874669",
      "metadata": {
        "trusted": true
      },
      "outputs": [
        {
          "data": {
            "text/plain": [
              "array([[0.78855821, 0.8249925 , 0.89708205],\n",
              "       [0.49902233, 0.52159067, 0.05378163],\n",
              "       [0.49314013, 0.60488843, 0.78315216]])"
            ]
          },
          "execution_count": 9,
          "metadata": {},
          "output_type": "execute_result"
        }
      ],
      "source": [
        "array_random = np.random.random((3, 3))\n",
        "array_random"
      ]
    },
    {
      "cell_type": "markdown",
      "id": "f5efe752-ccc9-478e-9cc7-376f80433b1c",
      "metadata": {},
      "source": [
        "##### 2. Different NumPy Methods"
      ]
    },
    {
      "cell_type": "code",
      "execution_count": 10,
      "id": "68dc58fc-1f87-44fa-8dea-8eec579430fd",
      "metadata": {
        "trusted": true
      },
      "outputs": [
        {
          "name": "stdout",
          "output_type": "stream",
          "text": [
            "\n",
            "2. NumPy Methods\n"
          ]
        }
      ],
      "source": [
        "print(\"\\n2. NumPy Methods\")"
      ]
    },
    {
      "cell_type": "markdown",
      "id": "993842f2-db86-416a-b008-eb100eb37b6a",
      "metadata": {},
      "source": [
        "##### a. Reshaping an array"
      ]
    },
    {
      "cell_type": "code",
      "execution_count": 11,
      "id": "ac54723a-4261-4dde-b1b6-0fd683de33dc",
      "metadata": {
        "trusted": true
      },
      "outputs": [
        {
          "data": {
            "text/plain": [
              "array([[1, 2, 3],\n",
              "       [4, 5, 6],\n",
              "       [7, 8, 9]])"
            ]
          },
          "execution_count": 11,
          "metadata": {},
          "output_type": "execute_result"
        }
      ],
      "source": [
        "reshaped_array = np.arange(1, 10).reshape(3, 3)\n",
        "reshaped_array"
      ]
    },
    {
      "cell_type": "markdown",
      "id": "d3bd7571-9d87-438b-ba02-89b8936ce850",
      "metadata": {},
      "source": [
        "##### b. Transposing an array"
      ]
    },
    {
      "cell_type": "code",
      "execution_count": 12,
      "id": "df291128-bc23-45ed-975d-18d13d3d5f45",
      "metadata": {
        "trusted": true
      },
      "outputs": [
        {
          "data": {
            "text/plain": [
              "array([[1, 4, 7],\n",
              "       [2, 5, 8],\n",
              "       [3, 6, 9]])"
            ]
          },
          "execution_count": 12,
          "metadata": {},
          "output_type": "execute_result"
        }
      ],
      "source": [
        "transposed_array = reshaped_array.T\n",
        "transposed_array"
      ]
    },
    {
      "cell_type": "markdown",
      "id": "1c469ce3-a395-4899-badf-961bca0c4cda",
      "metadata": {},
      "source": [
        "##### c. Mathematical operations"
      ]
    },
    {
      "cell_type": "code",
      "execution_count": 13,
      "id": "9a605abb-6a32-4305-9b35-db9ff79f060c",
      "metadata": {
        "trusted": true
      },
      "outputs": [
        {
          "data": {
            "text/plain": [
              "array([1.        , 1.41421356, 1.73205081])"
            ]
          },
          "execution_count": 13,
          "metadata": {},
          "output_type": "execute_result"
        }
      ],
      "source": [
        "array_math = np.array([1, 2, 3])\n",
        "array_math + 2\n",
        "array_math * 3\n",
        "np.sqrt(array_math)"
      ]
    },
    {
      "cell_type": "markdown",
      "id": "94652dd2-6c8e-424b-8569-cc960181077b",
      "metadata": {},
      "source": [
        "#####  d. Aggregation methods"
      ]
    },
    {
      "cell_type": "code",
      "execution_count": 14,
      "id": "2ed2d6b3-13f8-4040-9a34-6c3d7c49f772",
      "metadata": {
        "trusted": true
      },
      "outputs": [
        {
          "data": {
            "text/plain": [
              "np.int32(1)"
            ]
          },
          "execution_count": 14,
          "metadata": {},
          "output_type": "execute_result"
        }
      ],
      "source": [
        "np.sum(array_math)\n",
        "np.mean(array_math)\n",
        "np.max(array_math)\n",
        "np.min(array_math)"
      ]
    },
    {
      "cell_type": "markdown",
      "id": "5a190d6e-cf31-4fa8-b22f-8ccba980ec27",
      "metadata": {},
      "source": [
        "##### e. Concatenation of arrays"
      ]
    },
    {
      "cell_type": "code",
      "execution_count": 15,
      "id": "2e0ccd15-b555-4eb2-8da7-1c96b5895166",
      "metadata": {
        "trusted": true
      },
      "outputs": [
        {
          "data": {
            "text/plain": [
              "array([1, 2, 3, 4, 5, 6])"
            ]
          },
          "execution_count": 15,
          "metadata": {},
          "output_type": "execute_result"
        }
      ],
      "source": [
        "array_a = np.array([1, 2, 3])\n",
        "array_b = np.array([4, 5, 6])\n",
        "concat_array = np.concatenate((array_a, array_b))\n",
        "concat_array"
      ]
    },
    {
      "cell_type": "markdown",
      "id": "60b52b7b-935f-4620-8109-42ce2a3a340e",
      "metadata": {},
      "source": [
        "##### f. Sorting an array"
      ]
    },
    {
      "cell_type": "code",
      "execution_count": null,
      "id": "88a2ca72-8247-4c7b-a095-e333e76612a6",
      "metadata": {
        "trusted": true
      },
      "outputs": [],
      "source": []
    }
  ],
  "metadata": {
    "kernelspec": {
      "display_name": "Python (Pyodide)",
      "language": "python",
      "name": "python"
    },
    "language_info": {
      "codemirror_mode": {
        "name": "python",
        "version": 3
      },
      "file_extension": ".py",
      "mimetype": "text/x-python",
      "name": "python",
      "nbconvert_exporter": "python",
      "pygments_lexer": "ipython3",
      "version": "3.8"
    }
  },
  "nbformat": 4,
  "nbformat_minor": 5
}
